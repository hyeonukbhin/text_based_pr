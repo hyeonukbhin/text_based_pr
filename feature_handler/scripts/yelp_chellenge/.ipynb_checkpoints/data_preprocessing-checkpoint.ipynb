{
 "cells": [
  {
   "cell_type": "markdown",
   "metadata": {},
   "source": [
    "# NLP: Analyzing Healthcare Reviews and Predicting Their Useful Vote"
   ]
  },
  {
   "cell_type": "code",
   "execution_count": 1,
   "metadata": {},
   "outputs": [],
   "source": [
    "import os\n",
    "import codecs\n",
    "import json\n",
    "import numpy as np\n",
    "import pandas as pd\n",
    "import seaborn as sns\n",
    "sns.set_style('white')\n",
    "sns.set_context('notebook', font_scale=1.5)\n",
    "\n",
    "%matplotlib inline\n",
    "import matplotlib.pyplot as plt\n",
    "\n",
    "data_directory = os.path.join('/home/kist/yelp_13')\n",
    "businesses_filepath = os.path.join(data_directory, 'business.json')\n",
    "review_json_filepath = os.path.join(data_directory, 'review.json')\n",
    "intermediate_directory = os.path.join(data_directory, 'intermediate')\n",
    "review_txt_filepath = os.path.join(intermediate_directory, 'review_text_all.txt')\n"
   ]
  },
  {
   "cell_type": "code",
   "execution_count": 2,
   "metadata": {},
   "outputs": [
    {
     "name": "stdout",
     "output_type": "stream",
     "text": [
      "16,717 health & medical entities in the dataset.\n"
     ]
    }
   ],
   "source": [
    "healthcare_ids = []\n",
    "\n",
    "# open the businesses file\n",
    "with codecs.open(businesses_filepath, encoding='utf_8') as f:\n",
    "    # iterate through each line (json record) in the file\n",
    "    for business_json in f:\n",
    "\n",
    "        # convert the json record to a Python dict\n",
    "        business = json.loads(business_json)\n",
    "\n",
    "        # if this business has no categories or is not a target entity, skip to the next one\n",
    "        if business[u'categories'] is None or u'Health & Medical' not in business[u'categories']:\n",
    "            continue\n",
    "        # Remove businesses in BW, Germany\n",
    "        if u'BW' in business[u'state']:\n",
    "            continue\n",
    "        # Remove businesses that are restaurants, food and pets\n",
    "        if u'Restaurants' in business[u'categories'] or u'Food' in business[u'categories'] or 'Pets' in business[\n",
    "            u'categories']:\n",
    "            continue\n",
    "\n",
    "        # add the business id to our healthcare_ids set\n",
    "        healthcare_ids.append(business[u'business_id'])\n",
    "\n",
    "# Turn the list of ids into a set, which is faster for testing whether an element is in the set\n",
    "healthcare_ids = set(healthcare_ids)\n",
    "\n",
    "# print the number of unique ids in the dataset\n",
    "print('{:,}'.format(len(healthcare_ids)), u'health & medical entities in the dataset.')"
   ]
  },
  {
   "cell_type": "code",
   "execution_count": 7,
   "metadata": {},
   "outputs": [
    {
     "name": "stdout",
     "output_type": "stream",
     "text": [
      "Text from 1,002 healthcare reviews written to the new txt file.\n"
     ]
    }
   ],
   "source": [
    "# Create a new file that contains only the text from reviews about healthcare entities.\n",
    "# One review per line in the this new file.\n",
    "\n",
    "review_count = 0\n",
    "useful = []\n",
    "\n",
    "# create & open a new file in write mode\n",
    "with codecs.open(review_txt_filepath, 'w', encoding='utf_8') as review_txt_file:\n",
    "    # open the existing review json file\n",
    "    with codecs.open(review_json_filepath, encoding='utf_8') as review_json_file:\n",
    "\n",
    "        # loop through all reviews in the existing file and convert to dict\n",
    "#         for review_json in review_json_file:\n",
    "        loop_count = 0\n",
    "        for review_json in review_json_file:\n",
    "\n",
    "            review = json.loads(review_json)\n",
    "            # if this review is not in the target set, skip to the next one\n",
    "            if review[u'business_id'] not in healthcare_ids:\n",
    "                continue\n",
    "\n",
    "            # write each review as a line in the new file\n",
    "            # escape newline characters in the original review text\n",
    "            if review[u'text'] is None:\n",
    "                print(review_count)\n",
    "\n",
    "            review_txt_file.write(review[u'text'].replace('\\n', '\\\\n').replace('\\r', '') + '\\n')\n",
    "            review_count += 1\n",
    "            useful.append(review[u'useful'])\n",
    "            if loop_count > 1000:\n",
    "                break\n",
    "            loop_count += 1\n",
    "\n",
    "print(u'Text from {:,} healthcare reviews written to the new txt file.'.format(review_count))"
   ]
  },
  {
   "cell_type": "code",
   "execution_count": 9,
   "metadata": {},
   "outputs": [
    {
     "name": "stdout",
     "output_type": "stream",
     "text": [
      "Text from 1,002 healthcare reviews written to the new txt file.\n"
     ]
    }
   ],
   "source": [
    "# Create a new file that contains only the text from reviews about healthcare entities.\n",
    "# One review per line in the this new file.\n",
    "    \n",
    "review_count = 0\n",
    "useful = []\n",
    "\n",
    "# create & open a new file in write mode\n",
    "with codecs.open(review_txt_filepath, 'w', encoding='utf_8') as review_txt_file:\n",
    "\n",
    "    # open the existing review json file\n",
    "    with codecs.open(review_json_filepath, encoding='utf_8') as review_json_file:\n",
    "\n",
    "        # loop through all reviews in the existing file and convert to dict\n",
    "        loop_count = 0\n",
    "\n",
    "        for review_json in review_json_file:\n",
    "            review = json.loads(review_json)\n",
    "\n",
    "            # if this review is not in the target set, skip to the next one\n",
    "            if review[u'business_id'] not in healthcare_ids:\n",
    "                continue\n",
    "\n",
    "            # write each review as a line in the new file\n",
    "            # escape newline characters in the original review text\n",
    "            if review[u'text'] is None:\n",
    "                print(review_count)\n",
    "            \n",
    "            review_txt_file.write(review[u'text'].replace('\\n', '\\\\n').replace('\\r','') + '\\n')\n",
    "            review_count += 1\n",
    "            useful.append(review[u'useful'])\n",
    "            \n",
    "            if loop_count > 1000:\n",
    "                break\n",
    "            loop_count += 1\n",
    "\n",
    "print (u'Text from {:,} healthcare reviews written to the new txt file.'.format(review_count))"
   ]
  },
  {
   "cell_type": "code",
   "execution_count": 10,
   "metadata": {},
   "outputs": [],
   "source": [
    "useful = np.array(useful)\n",
    "luseful = np.log(useful+1)\n",
    "df = pd.DataFrame(useful, columns=['useful'])\n",
    "df.to_csv(os.path.join(intermediate_directory, 'useful.csv'))\n",
    "# print(df)"
   ]
  },
  {
   "cell_type": "code",
   "execution_count": 11,
   "metadata": {},
   "outputs": [
    {
     "name": "stdout",
     "output_type": "stream",
     "text": [
      "22 22\n"
     ]
    },
    {
     "data": {
      "image/png": "[encoded data removed]",
      "text/plain": [
       "<Figure size 864x360 with 2 Axes>"
      ]
     },
     "metadata": {
      "needs_background": "light"
     },
     "output_type": "display_data"
    }
   ],
   "source": [
    "unique, counts = np.unique(useful, return_counts = True)\n",
    "# print(unique)\n",
    "# print(counts)\n",
    "print(len(unique), len(counts))\n",
    "f, (ax1, ax2) = plt.subplots(1, 2, sharey=True)\n",
    "f.set_size_inches(12, 5)\n",
    "ax1.bar(unique, counts)\n",
    "ax1.set_title('Distribution of Healthcare Review Usefulness')\n",
    "ax1.set_xlabel('Useful Votes')\n",
    "ax1.set_ylabel('Number of Reviews')\n",
    "ax2.set_title('Distribution in Natural Log')\n",
    "ax2.hist(luseful, bins = 10, width = 0.3, align='mid')\n",
    "ax2.set_xlabel('Log(Useful Votes + 1)')\n",
    "f.savefig('useful_votes.png', dpi=100)\n",
    "plt.show()"
   ]
  },
  {
   "cell_type": "markdown",
   "metadata": {},
   "source": [
    "## Preprocessing the Text¶\n",
    "I use spaCy to tokenize, lemmitize and remove stopwords from the text. Apply phrase modeling by looking for words that tend to appear one after another more frequently than by random chance."
   ]
  },
  {
   "cell_type": "code",
   "execution_count": 13,
   "metadata": {},
   "outputs": [],
   "source": [
    "import spacy\n",
    "import pandas as pd\n",
    "import itertools as it\n",
    "\n",
    "# spacy.require_gpu()\n",
    "nlp = spacy.load('en')"
   ]
  },
  {
   "cell_type": "code",
   "execution_count": 14,
   "metadata": {},
   "outputs": [],
   "source": [
    "import warnings\n",
    "warnings.filterwarnings(action='ignore', category=UserWarning, module='gensim')\n",
    "from gensim.models import Phrases\n",
    "from gensim.models.word2vec import LineSentence\n",
    "\n",
    "unigram_sentences_filepath = os.path.join(intermediate_directory, 'unigram_sentences_all.txt')\n",
    "bigram_model_filepath = os.path.join(intermediate_directory, 'bigram_model_all')\n",
    "bigram_sentences_filepath = os.path.join(intermediate_directory, 'bigram_sentences_all.txt')\n",
    "trigram_model_filepath = os.path.join(intermediate_directory, 'trigram_model_all')\n",
    "trigram_sentences_filepath = os.path.join(intermediate_directory, 'trigram_sentences_all.txt')\n",
    "trigram_reviews_filepath = os.path.join(intermediate_directory, 'trigram_transformed_reviews_all.txt')"
   ]
  },
  {
   "cell_type": "code",
   "execution_count": 15,
   "metadata": {},
   "outputs": [],
   "source": [
    "def punct_space(token):\n",
    "    \"\"\"Eliminate tokens that are pure punctuation or white space\"\"\"\n",
    "    \n",
    "    return token.is_punct or token.is_space\n",
    "\n",
    "def person(token):\n",
    "    \"\"\"Remove tokens that are PERSON entities\"\"\"\n",
    "    \n",
    "    return token.ent_type_ == 'PERSON'\n",
    "\n",
    "def line_review(filename):\n",
    "    \"\"\"Generator function (iterator without storing all texts)\n",
    "    to read in reviews from file and return the original line breaks\"\"\"\n",
    "    \n",
    "    with codecs.open(filename, encoding='utf_8') as f:\n",
    "        for review in f:\n",
    "            yield review.replace('\\\\n', '\\n')\n",
    "\n",
    "def lemmatized_sentence_corpus(filename):\n",
    "    \"\"\"Generator function to use spaCy to parse reviews, lemmatize the text and yield sentences\"\"\"\n",
    "    \n",
    "    for parsed_review in nlp.pipe(line_review(filename), batch_size=10000, n_threads=4):\n",
    "        for sent in parsed_review.sents:\n",
    "            yield u' '.join([token.lemma_ for token in sent \n",
    "                             if not (punct_space(token) or person(token))])"
   ]
  },
  {
   "cell_type": "code",
   "execution_count": 16,
   "metadata": {},
   "outputs": [],
   "source": [
    "\n",
    "# Segment reviews into sentences and normalize the text\n",
    "# Save the parsed sentences file on disk to avoid storing the entire corpus in RAM\n",
    "with codecs.open(unigram_sentences_filepath, 'w', encoding='utf_8') as f:\n",
    "    for sentence in lemmatized_sentence_corpus(review_txt_filepath):\n",
    "        f.write(sentence + '\\n')"
   ]
  },
  {
   "cell_type": "code",
   "execution_count": 17,
   "metadata": {},
   "outputs": [],
   "source": [
    "# gensim's LineSentence class takes the format: one sentence = one line\n",
    "# words are preprocessed and separated by whitespace.\n",
    "unigram_sentences = LineSentence(unigram_sentences_filepath)"
   ]
  },
  {
   "cell_type": "code",
   "execution_count": 18,
   "metadata": {},
   "outputs": [],
   "source": [
    "\n",
    "# Run a phrase model to link two-words phrases together\n",
    "bigram_model = Phrases(unigram_sentences)\n",
    "bigram_model.save(bigram_model_filepath)\n",
    "bigram_model = Phrases.load(bigram_model_filepath)"
   ]
  },
  {
   "cell_type": "code",
   "execution_count": 19,
   "metadata": {},
   "outputs": [],
   "source": [
    "# Apply the bigram model to unigram sentences and create a text with bigram sentences\n",
    "with codecs.open(bigram_sentences_filepath, 'w', encoding='utf-8') as f:\n",
    "    for unigram_sentence in unigram_sentences:\n",
    "        bigram_sentence = u' '.join(bigram_model[unigram_sentence])\n",
    "        f.write(bigram_sentence + '\\n')"
   ]
  },
  {
   "cell_type": "code",
   "execution_count": 20,
   "metadata": {},
   "outputs": [],
   "source": [
    "bigram_sentences = LineSentence(bigram_sentences_filepath)\n"
   ]
  },
  {
   "cell_type": "code",
   "execution_count": 21,
   "metadata": {},
   "outputs": [],
   "source": [
    "trigram_model = Phrases(bigram_sentences)\n",
    "trigram_model.save(trigram_model_filepath)\n",
    "trigram_model = Phrases.load(trigram_model_filepath)"
   ]
  },
  {
   "cell_type": "code",
   "execution_count": 22,
   "metadata": {},
   "outputs": [],
   "source": [
    "with codecs.open(trigram_sentences_filepath, 'w', encoding='utf_8') as f:\n",
    "    for bigram_sentence in bigram_sentences:\n",
    "        trigram_sentence = u' '.join(trigram_model[bigram_sentence])\n",
    "        f.write(trigram_sentence + '\\n')"
   ]
  },
  {
   "cell_type": "code",
   "execution_count": 37,
   "metadata": {},
   "outputs": [
    {
     "name": "stdout",
     "output_type": "stream",
     "text": [
      "\"review : ['total', 'bill', 'horrible', 'service', '$', '8gs', 'crook', 'actually', 'nerve', 'charge', '-PRON-', '$', '69', '3', 'pill', '-PRON-', 'check', 'online', 'pill', '19', 'cent', 'EACH', 'avoid', 'Hospital', 'ERs', 'cost']\"\n",
      "\"review : ['-PRON-', 'office', '-PRON-', '-PRON-', 'organized', 'friendly', 'Dr.', 'great', 'dentist', 'very_friendly', 'professional', 'dental', 'assistant', 'help', '-PRON-', 'procedure', 'amazing', 'help', '-PRON-', 'feel_comfortable', '-PRON-', 'do_not', 'dental', 'insurance', '-PRON-', 'insurance', '-PRON-', 'office', '-PRON-', 'purchase', '$', '80', 'year', '-PRON-', '25', '-PRON-', 'dental_work', 'plus', '-PRON-', 'help', '-PRON-', 'sign_up_for', 'care', 'credit', '-PRON-', 'know', 'visit', '-PRON-', 'highly_recommend', 'office', 'nice', 'synergy', 'office']\"\n",
      "\"review : ['-PRON-', 'year', 'surgery', 'sacs', '-PRON-', 'wish', '-PRON-', 'turn', 'time', '-PRON-', 'promise', 'great', 'thing', '-PRON-', 'butcher', '-PRON-', 'body', '-PRON-', 'leave', '-PRON-', 'body', '-PRON-', 'bad', '-PRON-', 'perfect', '-PRON-', '-PRON-', 'talk_about', '-PRON-', 'ruin', 'good', 'body', '-PRON-', 'forget', '-PRON-', 'dirty', 'nasty', 'slipper', 'come', 'operating', 'room', '-PRON-', 'run', 'room']\"\n",
      "\"review : ['today', '-PRON-', 'first_time', 'staff', 'Bella', 'Smile', '-PRON-', 'great_experience', '-PRON-', 'currently', 'live', 'in_Las_Vegas', '-PRON-', 'plan', 'come_back', 'checkup', 'any_other', 'problem', 'arise', 'wait', 'time', 'whatsoever', '-PRON-', 'drop', 'pain', 'discomfort', 'manager', 'accommodate', 'business', '-PRON-', 'family', 'friend', 'town']\"\n",
      "\"review : ['-PRON-', '-PRON-', 'kid', 'several_time', '-PRON-', 'wait', '5_minute', '-PRON-', 'right', 'sign', '-PRON-', 'usually', '-PRON-', 'right', '-PRON-', 'sign', '-PRON-', 'paperwork', 'doctor', 'super_nice', '-PRON-', 'daughter', 'stitch', '-PRON-', 'nervous', 'wreck', 'staff', 'try', 'hard', '-PRON-', 'comfortable', '-PRON-', 'stuff', 'toy', '-PRON-', '-PRON-', 'very_nice', '-PRON-', 'wish', '-PRON-', 'open', 'a_bit', 'earlier', 'day', '-PRON-', 'great']\"\n",
      "\"review : ['-PRON-', 'wonderful', 'experience', 'Dr.', 'treat', '-PRON-', 'son', '-PRON-', '-PRON-', '8', 'month', 'satisfied', 'care', '-PRON-', 'receive', 'Dr.', 'very_helpful', '-PRON-', 'feel', 'rush', '-PRON-', 'office', '-PRON-', 'patient', 'answer', '-PRON-', 'question', 'thing', '-PRON-', 'appreciate', '-PRON-', 'feel_like', '-PRON-', 'solution', 'throw', 'bunch', 'med', '-PRON-', 'son', '-PRON-', 'conservative', 'start', 'low', 'dose', '-PRON-', 'comfortable', '-PRON-', 'son', 'love', 'come', 'appointment', 'play', 'Minecraft', 'toy', '-PRON-', 'office']\"\n",
      "\"review : ['-PRON-', 'terrible', 'experience', 'Dr.', 'front_office', '-PRON-', 'change', '-PRON-', 'primary', 'care', 'Dr.', '-PRON-', '-PRON-', '3_week', 'an_appointment', '-PRON-', '4', 'new', 'PATIENTS', 'day', '-PRON-', 'wait', '3_week', '-PRON-', 'tell', '7:45', 'appt', '-PRON-', '-PRON-', 'office', '7:45', 'actually', '7:47', 'accord', '-PRON-', 'cell', 'phone', 'door', 'lock', 'office', 'hour', 'post', '8:00-', '5:00', '-PRON-', 'glass', 'door', 'desk', 'area', 'l', 'left', 'home', '8', 'answer', '8:10', 'lady', '-PRON-', 'miss', '-PRON-', 'appointment', 'could_not', 'today', '-PRON-', 'argue', 'door', 'open', '7:45', '-PRON-', 'unapologetic', 'offer', '-PRON-', 'next_day', 'appointment', 'like', '-PRON-', '-PRON-', 'favor', '-PRON-', 'MISSED', '-PRON-', 'appointment', '-PRON-', '-PRON-', '-PRON-', 'dear', '-PRON-', 'incapable', 'know', 'appointment', 'time', '-PRON-', 'find', '-PRON-', 'condescending', 'Needless', '-PRON-', 'Dr.', 'let', '-PRON-', 'friend', 'know', 'office', 'procedure', 'unbendable', 'arrogant', 'rule']\"\n",
      "\"review : ['amazing', 'clean', 'pretty', 'good', 'service', '-PRON-', 'in_Las_Vegas', 'Everyone', 'nice', 'design', 'perfect']\"\n",
      "\"review : ['-PRON-', 'monthly', 'massage', 'past', 'month', 'a_couple', 'therapist', 'good', 'lack', 'experience', 'stocking', 'stuffer', '-PRON-', 'husband', '-PRON-', 'schedule', 'an_appointment', '-PRON-', 'meet', 'capable', 'therapist', '-PRON-', 'arrive', '-PRON-', 'appointment', '-PRON-', 'do_not', 'schedule', 'gentleman', 'work', 'front_desk', 'clearly', 'remember', 'scheduling', 'appointment', '-PRON-', '-PRON-', 'blame', '-PRON-', 'glitchy', 'new', 'scheduling', 'software', '-PRON-', 'extremely', 'disappointed', 'embarrassed', '-PRON-', 'gift', '-PRON-', 'reschedule', 'an_appointment', 'set', 'desk', 'attendant', 'afternoon', '-PRON-', 'husband', 'arrive', 'afternoon', '-PRON-', 'place', 'different', 'therapist', 'confess', '-PRON-', 'do_not', 'know_how', 'work', '-PRON-', 'specific', 'shoulder', 'issue', '-PRON-', 'reschedule', 'ridiculous', '-PRON-', 'consider', 'cancel', '-PRON-', 'membership', '-PRON-']\"\n",
      "=== Preprocessing finishied ===\n"
     ]
    }
   ],
   "source": [
    "# Write a transformed text into a new file, with one review per line\n",
    "roop_count = 0\n",
    "\n",
    "from pprintpp import pprint\n",
    "\n",
    "with codecs.open(trigram_reviews_filepath, 'w', encoding='utf-8') as f:\n",
    "    for parsed_review in nlp.pipe(line_review(review_txt_filepath), batch_size=10000, n_threads=4):\n",
    "\n",
    "        # Lemmatize the text, removing punctuation and whitespace\n",
    "        unigram_review = [token.lemma_ for token in parsed_review \n",
    "                          if not (punct_space(token) or person(token))]\n",
    "\n",
    "        # Apply the first-order and second-order phrase models\n",
    "        bigram_review = bigram_model[unigram_review]\n",
    "        trigram_review = trigram_model[bigram_review]\n",
    "\n",
    "#         print(trigram_review[:50])\n",
    "        # Remove any remaining stopwords\n",
    "#         trigram_review = [term for term in trigram_review if term not in spacy.en.language_data.STOP_WORDS]\n",
    "#         trigram_review = [term for term in trigram_review if term not in spacy.en.word_sets.stop_words]\n",
    "        trigram_review = [term for term in trigram_review if term not in nlp.Defaults.stop_words]\n",
    "        roop_count += 1\n",
    "#         print(\"roop {}\".format(roop_count))\n",
    "        if roop_count < 10:\n",
    "            pprint(\"review : {}\".format(trigram_review))\n",
    "\n",
    "        # Write the transformed review as a new line\n",
    "        trigram_review = u' '.join(trigram_review)\n",
    "        f.write(trigram_review + '\\n')\n",
    "        \n",
    "print(\"=== Preprocessing finishied ===\")"
   ]
  },
  {
   "cell_type": "markdown",
   "metadata": {},
   "source": [
    "## Train a Word2Vec Model\n"
   ]
  },
  {
   "cell_type": "code",
   "execution_count": null,
   "metadata": {},
   "outputs": [],
   "source": [
    "from gensim.models import Word2Vec\n",
    "word2vec_filepath = os.path.join(intermediate_directory, 'word2vec_model_all')"
   ]
  },
  {
   "cell_type": "code",
   "execution_count": null,
   "metadata": {},
   "outputs": [],
   "source": [
    "print(trigram_sentences)"
   ]
  },
  {
   "cell_type": "code",
   "execution_count": null,
   "metadata": {},
   "outputs": [],
   "source": [
    "# Train a word2vec model: 100-dimensional word vectors\n",
    "word2vec = Word2Vec(size=100, window=5, min_count=50, sg=0, workers=4)\n",
    "word2vec.build_vocab(trigram_sentences) \n",
    "word2vec.train(trigram_sentences, total_examples=word2vec.corpus_count, epochs=10)\n",
    "word2vec.save(word2vec_filepath)\n",
    "\n",
    "word2vec = Word2Vec.load(word2vec_filepath)"
   ]
  },
  {
   "cell_type": "code",
   "execution_count": null,
   "metadata": {},
   "outputs": [],
   "source": [
    "print(u'{:,} terms in the word2vec vocabulary.'.format(len(word2vec.wv.vocab)))\n"
   ]
  },
  {
   "cell_type": "code",
   "execution_count": null,
   "metadata": {},
   "outputs": [],
   "source": [
    "# build a list of terms, index, and term counts from the word2vec model\n",
    "ordered_vocab = [(term, vocab.index, vocab.count) for term, vocab in word2vec.wv.vocab.items()]\n",
    "ordered_vocab = sorted(ordered_vocab, key=lambda ordered_vocab:ordered_vocab[2], reverse=True)\n",
    "ordered_terms, term_indices, term_counts = zip(*ordered_vocab)"
   ]
  },
  {
   "cell_type": "code",
   "execution_count": null,
   "metadata": {},
   "outputs": [],
   "source": [
    "# Creat a dictionary mapping each word to a 100-dimensional vector\n",
    "word_vectors = dict(list(zip(word2vec.wv.index2word, word2vec.wv.syn0)))"
   ]
  },
  {
   "cell_type": "code",
   "execution_count": null,
   "metadata": {},
   "outputs": [],
   "source": [
    "word2vec.most_similar(positive=['dentist'], topn=5)\n"
   ]
  },
  {
   "cell_type": "code",
   "execution_count": null,
   "metadata": {},
   "outputs": [],
   "source": [
    "word2vec.most_similar(positive=['dentist', 'baby'], negative=['tooth'],topn=5)\n"
   ]
  },
  {
   "cell_type": "markdown",
   "metadata": {},
   "source": [
    "## Training a Doc2Vec Model¶"
   ]
  },
  {
   "cell_type": "code",
   "execution_count": 24,
   "metadata": {},
   "outputs": [],
   "source": [
    "# Gensim's Doc2Vec class creates vector representations for entire documents\n",
    "# The input object is an iterator of LineSentence objects\n",
    "# The default dm=1 refers to the distributed memory algorithm\n",
    "# The algorithm runs through sentences twice: (1) build the vocab, \n",
    "# (2) learn a vector representation for each word and for each label (sentence)\n",
    "# Better results can be achieved by iterating over the data several times\n",
    "\n",
    "from gensim.models import Doc2Vec\n",
    "from gensim.models.doc2vec import LabeledSentence\n",
    "doc2vec_filepath = os.path.join(intermediate_directory, 'doc2vec_model')"
   ]
  },
  {
   "cell_type": "code",
   "execution_count": 25,
   "metadata": {},
   "outputs": [],
   "source": [
    "X = []\n",
    "with codecs.open(trigram_reviews_filepath, encoding='utf-8') as f:\n",
    "    for review in f:\n",
    "        X.append(review)\n",
    "\n",
    "labels = ['Review_' + str(x) for x in range(len(X))]"
   ]
  },
  {
   "cell_type": "code",
   "execution_count": 27,
   "metadata": {},
   "outputs": [
    {
     "name": "stdout",
     "output_type": "stream",
     "text": [
      "['Review_0', 'Review_1', 'Review_2', 'Review_3', 'Review_4', 'Review_5', 'Review_6', 'Review_7', 'Review_8', 'Review_9', 'Review_10', 'Review_11', 'Review_12', 'Review_13', 'Review_14', 'Review_15', 'Review_16', 'Review_17', 'Review_18', 'Review_19', 'Review_20', 'Review_21', 'Review_22', 'Review_23', 'Review_24', 'Review_25', 'Review_26', 'Review_27', 'Review_28', 'Review_29', 'Review_30', 'Review_31', 'Review_32', 'Review_33', 'Review_34', 'Review_35', 'Review_36', 'Review_37', 'Review_38', 'Review_39', 'Review_40', 'Review_41', 'Review_42', 'Review_43', 'Review_44', 'Review_45', 'Review_46', 'Review_47', 'Review_48', 'Review_49', 'Review_50', 'Review_51', 'Review_52', 'Review_53', 'Review_54', 'Review_55', 'Review_56', 'Review_57', 'Review_58', 'Review_59', 'Review_60', 'Review_61', 'Review_62', 'Review_63', 'Review_64', 'Review_65', 'Review_66', 'Review_67', 'Review_68', 'Review_69', 'Review_70', 'Review_71', 'Review_72', 'Review_73', 'Review_74', 'Review_75', 'Review_76', 'Review_77', 'Review_78', 'Review_79', 'Review_80', 'Review_81', 'Review_82', 'Review_83', 'Review_84', 'Review_85', 'Review_86', 'Review_87', 'Review_88', 'Review_89', 'Review_90', 'Review_91', 'Review_92', 'Review_93', 'Review_94', 'Review_95', 'Review_96', 'Review_97', 'Review_98', 'Review_99']\n"
     ]
    }
   ],
   "source": [
    "print(labels[:100])"
   ]
  },
  {
   "cell_type": "code",
   "execution_count": 28,
   "metadata": {},
   "outputs": [],
   "source": [
    "class DocIterator():\n",
    "    def __init__(self, doc_list, labels_list):\n",
    "        self.labels_list = labels_list\n",
    "        self.doc_list = doc_list\n",
    "    def __iter__(self):\n",
    "        for idx, doc in enumerate(self.doc_list):\n",
    "            yield LabeledSentence(words=doc.split(), tags=[self.labels_list[idx]])"
   ]
  },
  {
   "cell_type": "code",
   "execution_count": 31,
   "metadata": {},
   "outputs": [],
   "source": [
    "labeled_reviews = DocIterator(X, labels)\n"
   ]
  },
  {
   "cell_type": "code",
   "execution_count": 35,
   "metadata": {},
   "outputs": [
    {
     "name": "stdout",
     "output_type": "stream",
     "text": [
      "['Review_0', 'Review_1', 'Review_2', 'Review_3', 'Review_4', 'Review_5', 'Review_6', 'Review_7', 'Review_8', 'Review_9', 'Review_10', 'Review_11', 'Review_12', 'Review_13', 'Review_14', 'Review_15', 'Review_16', 'Review_17', 'Review_18', 'Review_19', 'Review_20', 'Review_21', 'Review_22', 'Review_23', 'Review_24', 'Review_25', 'Review_26', 'Review_27', 'Review_28', 'Review_29', 'Review_30', 'Review_31', 'Review_32', 'Review_33', 'Review_34', 'Review_35', 'Review_36', 'Review_37', 'Review_38', 'Review_39', 'Review_40', 'Review_41', 'Review_42', 'Review_43', 'Review_44', 'Review_45', 'Review_46', 'Review_47', 'Review_48', 'Review_49', 'Review_50', 'Review_51', 'Review_52', 'Review_53', 'Review_54', 'Review_55', 'Review_56', 'Review_57', 'Review_58', 'Review_59', 'Review_60', 'Review_61', 'Review_62', 'Review_63', 'Review_64', 'Review_65', 'Review_66', 'Review_67', 'Review_68', 'Review_69', 'Review_70', 'Review_71', 'Review_72', 'Review_73', 'Review_74', 'Review_75', 'Review_76', 'Review_77', 'Review_78', 'Review_79', 'Review_80', 'Review_81', 'Review_82', 'Review_83', 'Review_84', 'Review_85', 'Review_86', 'Review_87', 'Review_88', 'Review_89', 'Review_90', 'Review_91', 'Review_92', 'Review_93', 'Review_94', 'Review_95', 'Review_96', 'Review_97', 'Review_98', 'Review_99', 'Review_100', 'Review_101', 'Review_102', 'Review_103', 'Review_104', 'Review_105', 'Review_106', 'Review_107', 'Review_108', 'Review_109', 'Review_110', 'Review_111', 'Review_112', 'Review_113', 'Review_114', 'Review_115', 'Review_116', 'Review_117', 'Review_118', 'Review_119', 'Review_120', 'Review_121', 'Review_122', 'Review_123', 'Review_124', 'Review_125', 'Review_126', 'Review_127', 'Review_128', 'Review_129', 'Review_130', 'Review_131', 'Review_132', 'Review_133', 'Review_134', 'Review_135', 'Review_136', 'Review_137', 'Review_138', 'Review_139', 'Review_140', 'Review_141', 'Review_142', 'Review_143', 'Review_144', 'Review_145', 'Review_146', 'Review_147', 'Review_148', 'Review_149', 'Review_150', 'Review_151', 'Review_152', 'Review_153', 'Review_154', 'Review_155', 'Review_156', 'Review_157', 'Review_158', 'Review_159', 'Review_160', 'Review_161', 'Review_162', 'Review_163', 'Review_164', 'Review_165', 'Review_166', 'Review_167', 'Review_168', 'Review_169', 'Review_170', 'Review_171', 'Review_172', 'Review_173', 'Review_174', 'Review_175', 'Review_176', 'Review_177', 'Review_178', 'Review_179', 'Review_180', 'Review_181', 'Review_182', 'Review_183', 'Review_184', 'Review_185', 'Review_186', 'Review_187', 'Review_188', 'Review_189', 'Review_190', 'Review_191', 'Review_192', 'Review_193', 'Review_194', 'Review_195', 'Review_196', 'Review_197', 'Review_198', 'Review_199', 'Review_200', 'Review_201', 'Review_202', 'Review_203', 'Review_204', 'Review_205', 'Review_206', 'Review_207', 'Review_208', 'Review_209', 'Review_210', 'Review_211', 'Review_212', 'Review_213', 'Review_214', 'Review_215', 'Review_216', 'Review_217', 'Review_218', 'Review_219', 'Review_220', 'Review_221', 'Review_222', 'Review_223', 'Review_224', 'Review_225', 'Review_226', 'Review_227', 'Review_228', 'Review_229', 'Review_230', 'Review_231', 'Review_232', 'Review_233', 'Review_234', 'Review_235', 'Review_236', 'Review_237', 'Review_238', 'Review_239', 'Review_240', 'Review_241', 'Review_242', 'Review_243', 'Review_244', 'Review_245', 'Review_246', 'Review_247', 'Review_248', 'Review_249', 'Review_250', 'Review_251', 'Review_252', 'Review_253', 'Review_254', 'Review_255', 'Review_256', 'Review_257', 'Review_258', 'Review_259', 'Review_260', 'Review_261', 'Review_262', 'Review_263', 'Review_264', 'Review_265', 'Review_266', 'Review_267', 'Review_268', 'Review_269', 'Review_270', 'Review_271', 'Review_272', 'Review_273', 'Review_274', 'Review_275', 'Review_276', 'Review_277', 'Review_278', 'Review_279', 'Review_280', 'Review_281', 'Review_282', 'Review_283', 'Review_284', 'Review_285', 'Review_286', 'Review_287', 'Review_288', 'Review_289', 'Review_290', 'Review_291', 'Review_292', 'Review_293', 'Review_294', 'Review_295', 'Review_296', 'Review_297', 'Review_298', 'Review_299', 'Review_300', 'Review_301', 'Review_302', 'Review_303', 'Review_304', 'Review_305', 'Review_306', 'Review_307', 'Review_308', 'Review_309', 'Review_310', 'Review_311', 'Review_312', 'Review_313', 'Review_314', 'Review_315', 'Review_316', 'Review_317', 'Review_318', 'Review_319', 'Review_320', 'Review_321', 'Review_322', 'Review_323', 'Review_324', 'Review_325', 'Review_326', 'Review_327', 'Review_328', 'Review_329', 'Review_330', 'Review_331', 'Review_332', 'Review_333', 'Review_334', 'Review_335', 'Review_336', 'Review_337', 'Review_338', 'Review_339', 'Review_340', 'Review_341', 'Review_342', 'Review_343', 'Review_344', 'Review_345', 'Review_346', 'Review_347', 'Review_348', 'Review_349', 'Review_350', 'Review_351', 'Review_352', 'Review_353', 'Review_354', 'Review_355', 'Review_356', 'Review_357', 'Review_358', 'Review_359', 'Review_360', 'Review_361', 'Review_362', 'Review_363', 'Review_364', 'Review_365', 'Review_366', 'Review_367', 'Review_368', 'Review_369', 'Review_370', 'Review_371', 'Review_372', 'Review_373', 'Review_374', 'Review_375', 'Review_376', 'Review_377', 'Review_378', 'Review_379', 'Review_380', 'Review_381', 'Review_382', 'Review_383', 'Review_384', 'Review_385', 'Review_386', 'Review_387', 'Review_388', 'Review_389', 'Review_390', 'Review_391', 'Review_392', 'Review_393', 'Review_394', 'Review_395', 'Review_396', 'Review_397', 'Review_398', 'Review_399', 'Review_400', 'Review_401', 'Review_402', 'Review_403', 'Review_404', 'Review_405', 'Review_406', 'Review_407', 'Review_408', 'Review_409', 'Review_410', 'Review_411', 'Review_412', 'Review_413', 'Review_414', 'Review_415', 'Review_416', 'Review_417', 'Review_418', 'Review_419', 'Review_420', 'Review_421', 'Review_422', 'Review_423', 'Review_424', 'Review_425', 'Review_426', 'Review_427', 'Review_428', 'Review_429', 'Review_430', 'Review_431', 'Review_432', 'Review_433', 'Review_434', 'Review_435', 'Review_436', 'Review_437', 'Review_438', 'Review_439', 'Review_440', 'Review_441', 'Review_442', 'Review_443', 'Review_444', 'Review_445', 'Review_446', 'Review_447', 'Review_448', 'Review_449', 'Review_450', 'Review_451', 'Review_452', 'Review_453', 'Review_454', 'Review_455', 'Review_456', 'Review_457', 'Review_458', 'Review_459', 'Review_460', 'Review_461', 'Review_462', 'Review_463', 'Review_464', 'Review_465', 'Review_466', 'Review_467', 'Review_468', 'Review_469', 'Review_470', 'Review_471', 'Review_472', 'Review_473', 'Review_474', 'Review_475', 'Review_476', 'Review_477', 'Review_478', 'Review_479', 'Review_480', 'Review_481', 'Review_482', 'Review_483', 'Review_484', 'Review_485', 'Review_486', 'Review_487', 'Review_488', 'Review_489', 'Review_490', 'Review_491', 'Review_492', 'Review_493', 'Review_494', 'Review_495', 'Review_496', 'Review_497', 'Review_498', 'Review_499', 'Review_500', 'Review_501', 'Review_502', 'Review_503', 'Review_504', 'Review_505', 'Review_506', 'Review_507', 'Review_508', 'Review_509', 'Review_510', 'Review_511', 'Review_512', 'Review_513', 'Review_514', 'Review_515', 'Review_516', 'Review_517', 'Review_518', 'Review_519', 'Review_520', 'Review_521', 'Review_522', 'Review_523', 'Review_524', 'Review_525', 'Review_526', 'Review_527', 'Review_528', 'Review_529', 'Review_530', 'Review_531', 'Review_532', 'Review_533', 'Review_534', 'Review_535', 'Review_536', 'Review_537', 'Review_538', 'Review_539', 'Review_540', 'Review_541', 'Review_542', 'Review_543', 'Review_544', 'Review_545', 'Review_546', 'Review_547', 'Review_548', 'Review_549', 'Review_550', 'Review_551', 'Review_552', 'Review_553', 'Review_554', 'Review_555', 'Review_556', 'Review_557', 'Review_558', 'Review_559', 'Review_560', 'Review_561', 'Review_562', 'Review_563', 'Review_564', 'Review_565', 'Review_566', 'Review_567', 'Review_568', 'Review_569', 'Review_570', 'Review_571', 'Review_572', 'Review_573', 'Review_574', 'Review_575', 'Review_576', 'Review_577', 'Review_578', 'Review_579', 'Review_580', 'Review_581', 'Review_582', 'Review_583', 'Review_584', 'Review_585', 'Review_586', 'Review_587', 'Review_588', 'Review_589', 'Review_590', 'Review_591', 'Review_592', 'Review_593', 'Review_594', 'Review_595', 'Review_596', 'Review_597', 'Review_598', 'Review_599', 'Review_600', 'Review_601', 'Review_602', 'Review_603', 'Review_604', 'Review_605', 'Review_606', 'Review_607', 'Review_608', 'Review_609', 'Review_610', 'Review_611', 'Review_612', 'Review_613', 'Review_614', 'Review_615', 'Review_616', 'Review_617', 'Review_618', 'Review_619', 'Review_620', 'Review_621', 'Review_622', 'Review_623', 'Review_624', 'Review_625', 'Review_626', 'Review_627', 'Review_628', 'Review_629', 'Review_630', 'Review_631', 'Review_632', 'Review_633', 'Review_634', 'Review_635', 'Review_636', 'Review_637', 'Review_638', 'Review_639', 'Review_640', 'Review_641', 'Review_642', 'Review_643', 'Review_644', 'Review_645', 'Review_646', 'Review_647', 'Review_648', 'Review_649', 'Review_650', 'Review_651', 'Review_652', 'Review_653', 'Review_654', 'Review_655', 'Review_656', 'Review_657', 'Review_658', 'Review_659', 'Review_660', 'Review_661', 'Review_662', 'Review_663', 'Review_664', 'Review_665', 'Review_666', 'Review_667', 'Review_668', 'Review_669', 'Review_670', 'Review_671', 'Review_672', 'Review_673', 'Review_674', 'Review_675', 'Review_676', 'Review_677', 'Review_678', 'Review_679', 'Review_680', 'Review_681', 'Review_682', 'Review_683', 'Review_684', 'Review_685', 'Review_686', 'Review_687', 'Review_688', 'Review_689', 'Review_690', 'Review_691', 'Review_692', 'Review_693', 'Review_694', 'Review_695', 'Review_696', 'Review_697', 'Review_698', 'Review_699', 'Review_700', 'Review_701', 'Review_702', 'Review_703', 'Review_704', 'Review_705', 'Review_706', 'Review_707', 'Review_708', 'Review_709', 'Review_710', 'Review_711', 'Review_712', 'Review_713', 'Review_714', 'Review_715', 'Review_716', 'Review_717', 'Review_718', 'Review_719', 'Review_720', 'Review_721', 'Review_722', 'Review_723', 'Review_724', 'Review_725', 'Review_726', 'Review_727', 'Review_728', 'Review_729', 'Review_730', 'Review_731', 'Review_732', 'Review_733', 'Review_734', 'Review_735', 'Review_736', 'Review_737', 'Review_738', 'Review_739', 'Review_740', 'Review_741', 'Review_742', 'Review_743', 'Review_744', 'Review_745', 'Review_746', 'Review_747', 'Review_748', 'Review_749', 'Review_750', 'Review_751', 'Review_752', 'Review_753', 'Review_754', 'Review_755', 'Review_756', 'Review_757', 'Review_758', 'Review_759', 'Review_760', 'Review_761', 'Review_762', 'Review_763', 'Review_764', 'Review_765', 'Review_766', 'Review_767', 'Review_768', 'Review_769', 'Review_770', 'Review_771', 'Review_772', 'Review_773', 'Review_774', 'Review_775', 'Review_776', 'Review_777', 'Review_778', 'Review_779', 'Review_780', 'Review_781', 'Review_782', 'Review_783', 'Review_784', 'Review_785', 'Review_786', 'Review_787', 'Review_788', 'Review_789', 'Review_790', 'Review_791', 'Review_792', 'Review_793', 'Review_794', 'Review_795', 'Review_796', 'Review_797', 'Review_798', 'Review_799', 'Review_800', 'Review_801', 'Review_802', 'Review_803', 'Review_804', 'Review_805', 'Review_806', 'Review_807', 'Review_808', 'Review_809', 'Review_810', 'Review_811', 'Review_812', 'Review_813', 'Review_814', 'Review_815', 'Review_816', 'Review_817', 'Review_818', 'Review_819', 'Review_820', 'Review_821', 'Review_822', 'Review_823', 'Review_824', 'Review_825', 'Review_826', 'Review_827', 'Review_828', 'Review_829', 'Review_830', 'Review_831', 'Review_832', 'Review_833', 'Review_834', 'Review_835', 'Review_836', 'Review_837', 'Review_838', 'Review_839', 'Review_840', 'Review_841', 'Review_842', 'Review_843', 'Review_844', 'Review_845', 'Review_846', 'Review_847', 'Review_848', 'Review_849', 'Review_850', 'Review_851', 'Review_852', 'Review_853', 'Review_854', 'Review_855', 'Review_856', 'Review_857', 'Review_858', 'Review_859', 'Review_860', 'Review_861', 'Review_862', 'Review_863', 'Review_864', 'Review_865', 'Review_866', 'Review_867', 'Review_868', 'Review_869', 'Review_870', 'Review_871', 'Review_872', 'Review_873', 'Review_874', 'Review_875', 'Review_876', 'Review_877', 'Review_878', 'Review_879', 'Review_880', 'Review_881', 'Review_882', 'Review_883', 'Review_884', 'Review_885', 'Review_886', 'Review_887', 'Review_888', 'Review_889', 'Review_890', 'Review_891', 'Review_892', 'Review_893', 'Review_894', 'Review_895', 'Review_896', 'Review_897', 'Review_898', 'Review_899', 'Review_900', 'Review_901', 'Review_902', 'Review_903', 'Review_904', 'Review_905', 'Review_906', 'Review_907', 'Review_908', 'Review_909', 'Review_910', 'Review_911', 'Review_912', 'Review_913', 'Review_914', 'Review_915', 'Review_916', 'Review_917', 'Review_918', 'Review_919', 'Review_920', 'Review_921', 'Review_922', 'Review_923', 'Review_924', 'Review_925', 'Review_926', 'Review_927', 'Review_928', 'Review_929', 'Review_930', 'Review_931', 'Review_932', 'Review_933', 'Review_934', 'Review_935', 'Review_936', 'Review_937', 'Review_938', 'Review_939', 'Review_940', 'Review_941', 'Review_942', 'Review_943', 'Review_944', 'Review_945', 'Review_946', 'Review_947', 'Review_948', 'Review_949', 'Review_950', 'Review_951', 'Review_952', 'Review_953', 'Review_954', 'Review_955', 'Review_956', 'Review_957', 'Review_958', 'Review_959', 'Review_960', 'Review_961', 'Review_962', 'Review_963', 'Review_964', 'Review_965', 'Review_966', 'Review_967', 'Review_968', 'Review_969', 'Review_970', 'Review_971', 'Review_972', 'Review_973', 'Review_974', 'Review_975', 'Review_976', 'Review_977', 'Review_978', 'Review_979', 'Review_980', 'Review_981', 'Review_982', 'Review_983', 'Review_984', 'Review_985', 'Review_986', 'Review_987', 'Review_988', 'Review_989', 'Review_990', 'Review_991', 'Review_992', 'Review_993', 'Review_994', 'Review_995', 'Review_996', 'Review_997', 'Review_998', 'Review_999', 'Review_1000', 'Review_1001']\n"
     ]
    }
   ],
   "source": [
    "print(labeled_reviews.labels_list)"
   ]
  },
  {
   "cell_type": "code",
   "execution_count": null,
   "metadata": {},
   "outputs": [],
   "source": [
    "# To produce better results, iterate over the data 10 times\n",
    "# and control the learning rate for each iteration\n",
    "doc2vec = Doc2Vec(size=100, window=5, min_count=50, workers=4, iter=10)\n",
    "doc2vec.build_vocab(labeled_reviews)\n",
    "\n",
    "doc2vec.train(labeled_reviews, total_examples=doc2vec.corpus_count, epochs=10)\n",
    "\n",
    "doc2vec.save(doc2vec_filepath)\n",
    "doc2vec.delete_temporary_training_data(keep_doctags_vectors=True, keep_inference=True)\n",
    "    \n",
    "doc2vec = Doc2Vec.load(doc2vec_filepath)"
   ]
  },
  {
   "cell_type": "code",
   "execution_count": null,
   "metadata": {},
   "outputs": [],
   "source": [
    "doc2vec.most_similar(positive=[\"pediatrician\"], topn=5)\n"
   ]
  },
  {
   "cell_type": "code",
   "execution_count": null,
   "metadata": {},
   "outputs": [],
   "source": [
    "doc2vec.most_similar(positive=['pediatrician','tooth'], negative=['baby'], topn=5)\n"
   ]
  },
  {
   "cell_type": "code",
   "execution_count": null,
   "metadata": {},
   "outputs": [],
   "source": [
    "doc2vec.docvecs.most_similar('Review_10', topn=5)\n"
   ]
  }
 ],
 "metadata": {
  "kernelspec": {
   "display_name": "venv2",
   "language": "python",
   "name": "venv2"
  },
  "language_info": {
   "codemirror_mode": {
    "name": "ipython",
    "version": 3
   },
   "file_extension": ".py",
   "mimetype": "text/x-python",
   "name": "python",
   "nbconvert_exporter": "python",
   "pygments_lexer": "ipython3",
   "version": "3.5.2"
  }
 },
 "nbformat": 4,
 "nbformat_minor": 2
}
